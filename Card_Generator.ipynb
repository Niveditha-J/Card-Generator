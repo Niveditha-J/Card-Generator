{
  "nbformat": 4,
  "nbformat_minor": 0,
  "metadata": {
    "colab": {
      "provenance": [],
      "authorship_tag": "ABX9TyPkaZMeT8Jw1K6naCp2rK9L",
      "include_colab_link": true
    },
    "kernelspec": {
      "name": "python3",
      "display_name": "Python 3"
    },
    "language_info": {
      "name": "python"
    }
  },
  "cells": [
    {
      "cell_type": "markdown",
      "metadata": {
        "id": "view-in-github",
        "colab_type": "text"
      },
      "source": [
        "<a href=\"https://colab.research.google.com/github/Niveditha-J/Card-Generator/blob/main/Card_Generator.ipynb\" target=\"_parent\"><img src=\"https://colab.research.google.com/assets/colab-badge.svg\" alt=\"Open In Colab\"/></a>"
      ]
    },
    {
      "cell_type": "markdown",
      "source": [
        "## Import Statements"
      ],
      "metadata": {
        "id": "jBtA54tFkN1f"
      }
    },
    {
      "cell_type": "code",
      "execution_count": null,
      "metadata": {
        "colab": {
          "base_uri": "https://localhost:8080/"
        },
        "id": "wKFQj32P26tB",
        "outputId": "7bfcc400-f6d1-4c4d-f3be-59d598cb640c"
      },
      "outputs": [
        {
          "output_type": "stream",
          "name": "stdout",
          "text": [
            "Requirement already satisfied: pillow in /usr/local/lib/python3.10/dist-packages (11.0.0)\n"
          ]
        }
      ],
      "source": [
        "pip install pillow\n"
      ]
    },
    {
      "cell_type": "markdown",
      "source": [
        "## Simple Customizable Card"
      ],
      "metadata": {
        "id": "BM3qMHzvkYQ2"
      }
    },
    {
      "cell_type": "code",
      "source": [
        "from PIL import Image, ImageDraw, ImageFont\n",
        "\n",
        "def create_card(name, message, color, output_file, border_color, border_width, image_path=None):\n",
        "    # Create a blank card canvas\n",
        "    card_width, card_height = 800, 600\n",
        "    card = Image.new(\"RGB\", (card_width, card_height), color=color)\n",
        "    draw = ImageDraw.Draw(card)\n",
        "\n",
        "    # Draw a decorative border\n",
        "    draw.rectangle(\n",
        "        [(border_width, border_width), (card_width-border_width, card_height-border_width)],\n",
        "        outline=border_color, width=border_width\n",
        "    )\n",
        "\n",
        "    # Fonts (adjust the path if necessary)\n",
        "    try:\n",
        "        title_font = ImageFont.truetype(\"arial.ttf\", 50)\n",
        "        message_font = ImageFont.truetype(\"arial.ttf\", 30)\n",
        "    except IOError:\n",
        "        title_font = ImageFont.load_default()\n",
        "        message_font = ImageFont.load_default()\n",
        "\n",
        "    # Add text to the card\n",
        "    title_text = f\"To: {name}\"\n",
        "    message_text = message\n",
        "\n",
        "    # Center title text\n",
        "    title_bbox = draw.textbbox((0, 0), title_text, font=title_font)\n",
        "    title_width = title_bbox[2] - title_bbox[0]\n",
        "    title_x = (card_width - title_width) // 2\n",
        "    title_y = 120\n",
        "    draw.text((title_x, title_y), title_text, font=title_font, fill=\"black\")\n",
        "\n",
        "    # Center message text\n",
        "    message_bbox = draw.textbbox((0, 0), message_text, font=message_font)\n",
        "    message_width = message_bbox[2] - message_bbox[0]\n",
        "    message_x = (card_width - message_width) // 2\n",
        "    message_y = 300\n",
        "    draw.text((message_x, message_y), message_text, font=message_font, fill=\"black\")\n",
        "\n",
        "    # Add an image (if provided)\n",
        "    if image_path:\n",
        "        try:\n",
        "            img = Image.open(image_path).resize((100, 100))  # Resize image to fit the card\n",
        "            card.paste(img, (50, 50))  # Paste image at a specific position\n",
        "        except Exception as e:\n",
        "            print(f\"Error adding image: {e}\")\n",
        "\n",
        "    # Save the card\n",
        "    card.save(output_file)\n",
        "    print(f\"Card saved as {output_file}\")\n",
        "\n",
        "# Input from the user\n",
        "name = input(\"Enter the recipient's name: \")\n",
        "message = input(\"Enter a message for the card: \")\n",
        "color = input(\"Enter a background color (e.g., 'blue', '#FF5733'): \")\n",
        "border_color = input(\"Enter the border color (e.g., 'black', '#000000'): \")\n",
        "\n",
        "# Strip 'px' from the border width input\n",
        "border_width_input = input(\"Enter the border width (in pixels): \")\n",
        "border_width = int(''.join(filter(str.isdigit, border_width_input)))\n",
        "\n",
        "output_file = input(\"Enter the output file name (e.g., 'card.png'): \")\n",
        "image_path = input(\"Enter the path to an image (leave blank to skip): \") or None\n",
        "\n",
        "create_card(name, message, color, output_file, border_color, border_width, image_path)\n"
      ],
      "metadata": {
        "colab": {
          "base_uri": "https://localhost:8080/"
        },
        "id": "W_YaQ9HQ3Bjo",
        "outputId": "3dadb1ed-1976-4653-ac33-828a68ab774e"
      },
      "execution_count": null,
      "outputs": [
        {
          "output_type": "stream",
          "name": "stdout",
          "text": [
            "Enter the recipient's name: jau\n",
            "Enter a message for the card: love u\n",
            "Enter a background color (e.g., 'blue', '#FF5733'): blue\n",
            "Enter the border color (e.g., 'black', '#000000'): black\n",
            "Enter the border width (in pixels): 5 px\n",
            "Enter the output file name (e.g., 'card.png'): car6.png\n",
            "Enter the path to an image (leave blank to skip): \n",
            "Card saved as car6.png\n"
          ]
        }
      ]
    },
    {
      "cell_type": "markdown",
      "source": [
        "## Install library for Text-To-Speech Converter"
      ],
      "metadata": {
        "id": "_yWLPfuEkgLW"
      }
    },
    {
      "cell_type": "code",
      "source": [
        "!pip install gtts\n"
      ],
      "metadata": {
        "colab": {
          "base_uri": "https://localhost:8080/"
        },
        "id": "EFxoyQ465BuI",
        "outputId": "8ba65580-b643-4091-e52b-289915c89df2"
      },
      "execution_count": null,
      "outputs": [
        {
          "output_type": "stream",
          "name": "stdout",
          "text": [
            "Collecting gtts\n",
            "  Downloading gTTS-2.5.4-py3-none-any.whl.metadata (4.1 kB)\n",
            "Requirement already satisfied: requests<3,>=2.27 in /usr/local/lib/python3.10/dist-packages (from gtts) (2.32.3)\n",
            "Requirement already satisfied: click<8.2,>=7.1 in /usr/local/lib/python3.10/dist-packages (from gtts) (8.1.7)\n",
            "Requirement already satisfied: charset-normalizer<4,>=2 in /usr/local/lib/python3.10/dist-packages (from requests<3,>=2.27->gtts) (3.4.0)\n",
            "Requirement already satisfied: idna<4,>=2.5 in /usr/local/lib/python3.10/dist-packages (from requests<3,>=2.27->gtts) (3.10)\n",
            "Requirement already satisfied: urllib3<3,>=1.21.1 in /usr/local/lib/python3.10/dist-packages (from requests<3,>=2.27->gtts) (2.2.3)\n",
            "Requirement already satisfied: certifi>=2017.4.17 in /usr/local/lib/python3.10/dist-packages (from requests<3,>=2.27->gtts) (2024.12.14)\n",
            "Downloading gTTS-2.5.4-py3-none-any.whl (29 kB)\n",
            "Installing collected packages: gtts\n",
            "Successfully installed gtts-2.5.4\n"
          ]
        }
      ]
    },
    {
      "cell_type": "code",
      "source": [
        "from PIL import Image, ImageDraw, ImageFont\n",
        "from gtts import gTTS\n",
        "import random\n",
        "\n",
        "\n",
        "def generate_gradient_background(width, height, color1, color2):\n",
        "    \"\"\"Generate a gradient background.\"\"\"\n",
        "    gradient = Image.new(\"RGB\", (width, height), color1)\n",
        "    for y in range(height):\n",
        "        r = int(color1[0] + (color2[0] - color1[0]) * (y / height))\n",
        "        g = int(color1[1] + (color2[1] - color1[1]) * (y / height))\n",
        "        b = int(color1[2] + (color2[2] - color1[2]) * (y / height))\n",
        "        for x in range(width):\n",
        "            gradient.putpixel((x, y), (r, g, b))\n",
        "    return gradient\n",
        "\n",
        "\n",
        "def adjust_font_size(draw, text, font_path, max_width, max_height):\n",
        "    \"\"\"Dynamically adjust font size to fit within the specified dimensions.\"\"\"\n",
        "    font_size = 50  # Start with a default size\n",
        "    font = ImageFont.truetype(font_path, font_size)\n",
        "    while True:\n",
        "        text_width, text_height = draw.textsize(text, font=font)\n",
        "        if text_width <= max_width and text_height <= max_height:\n",
        "            return font\n",
        "        font_size -= 2\n",
        "        font = ImageFont.truetype(font_path, font_size)\n",
        "\n",
        "\n",
        "def create_card(name, message, gradient_colors, output_file, border_color, border_width, audio_file):\n",
        "    card_width, card_height = 800, 600\n",
        "    color1, color2 = gradient_colors\n",
        "\n",
        "    # Generate a gradient background\n",
        "    background = generate_gradient_background(card_width, card_height, color1, color2)\n",
        "    draw = ImageDraw.Draw(background)\n",
        "\n",
        "    # Draw a decorative border\n",
        "    draw.rectangle(\n",
        "        [(border_width, border_width), (card_width-border_width, card_height-border_width)],\n",
        "        outline=border_color, width=border_width\n",
        "    )\n",
        "\n",
        "    # Fonts (adjust the path if necessary)\n",
        "    font_path = \"arial.ttf\"\n",
        "    try:\n",
        "        title_font = adjust_font_size(draw, f\"To: {name}\", font_path, card_width - 40, 100)\n",
        "        message_font = adjust_font_size(draw, message, font_path, card_width - 40, 200)\n",
        "    except IOError:\n",
        "        title_font = ImageFont.load_default()\n",
        "        message_font = ImageFont.load_default()\n",
        "\n",
        "    # Add text to the card\n",
        "    title_text = f\"To: {name}\"\n",
        "    title_bbox = draw.textbbox((0, 0), title_text, font=title_font)\n",
        "    title_width = title_bbox[2] - title_bbox[0]\n",
        "    title_x = (card_width - title_width) // 2\n",
        "    title_y = 100\n",
        "    draw.text((title_x, title_y), title_text, font=title_font, fill=\"black\")\n",
        "\n",
        "    message_bbox = draw.textbbox((0, 0), message, font=message_font)\n",
        "    message_width = message_bbox[2] - message_bbox[0]\n",
        "    message_x = (card_width - message_width) // 2\n",
        "    message_y = 300\n",
        "    draw.text((message_x, message_y), message, font=message_font, fill=\"black\")\n",
        "\n",
        "    # Save the card\n",
        "    background.save(output_file)\n",
        "    print(f\"Card saved as {output_file}\")\n",
        "\n",
        "    # Generate voice-over for the message\n",
        "    tts = gTTS(text=message, lang=\"en\")\n",
        "    tts.save(audio_file)\n",
        "    print(f\"Voice-over saved as {audio_file}\")\n",
        "\n",
        "\n",
        "# Input from the user\n",
        "name = input(\"Enter the recipient's name: \")\n",
        "message = input(\"Enter a message for the card: \")\n",
        "gradient_color1 = tuple(int(x) for x in input(\"Enter the first gradient color (R,G,B): \").split(\",\"))\n",
        "gradient_color2 = tuple(int(x) for x in input(\"Enter the second gradient color (R,G,B): \").split(\",\"))\n",
        "border_color = input(\"Enter the border color (e.g., 'black', '#000000'): \")\n",
        "border_width = int(''.join(filter(str.isdigit, input(\"Enter the border width (in pixels): \"))))\n",
        "output_file = input(\"Enter the output file name (e.g., 'card.png'): \")\n",
        "audio_file = input(\"Enter the audio file name for the message (e.g., 'message.mp3'): \")\n",
        "\n",
        "create_card(name, message, (gradient_color1, gradient_color2), output_file, border_color, border_width, audio_file)\n"
      ],
      "metadata": {
        "colab": {
          "base_uri": "https://localhost:8080/"
        },
        "id": "kE7euiYT3MrE",
        "outputId": "ad10fc1d-2c74-4db2-9abb-52473858477c"
      },
      "execution_count": null,
      "outputs": [
        {
          "output_type": "stream",
          "name": "stdout",
          "text": [
            "Enter the recipient's name: nivi\n",
            "Enter a message for the card: hello i love u\n",
            "Enter the first gradient color (R,G,B): 255,0,0\n",
            "Enter the second gradient color (R,G,B): 0,255,0\n",
            "Enter the border color (e.g., 'black', '#000000'): white\n",
            "Enter the border width (in pixels): 10 px\n",
            "Enter the output file name (e.g., 'card.png'): car1.png\n",
            "Enter the audio file name for the message (e.g., 'message.mp3'): msg2.mp3\n",
            "Card saved as car1.png\n",
            "Voice-over saved as msg2.mp3\n"
          ]
        }
      ]
    },
    {
      "cell_type": "code",
      "source": [],
      "metadata": {
        "id": "kBJO0V-IGmLp"
      },
      "execution_count": null,
      "outputs": []
    }
  ]
}